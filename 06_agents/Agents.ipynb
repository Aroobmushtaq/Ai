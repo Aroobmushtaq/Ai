{
  "nbformat": 4,
  "nbformat_minor": 0,
  "metadata": {
    "colab": {
      "provenance": [],
      "gpuType": "T4",
      "authorship_tag": "ABX9TyNnrIxdxy+HzoI3Q7ti8es9",
      "include_colab_link": true
    },
    "kernelspec": {
      "name": "python3",
      "display_name": "Python 3"
    },
    "language_info": {
      "name": "python"
    }
  },
  "cells": [
    {
      "cell_type": "markdown",
      "metadata": {
        "id": "view-in-github",
        "colab_type": "text"
      },
      "source": [
        "<a href=\"https://colab.research.google.com/github/Aroobmushtaq/Ai/blob/main/06_agents/Agents.ipynb\" target=\"_parent\"><img src=\"https://colab.research.google.com/assets/colab-badge.svg\" alt=\"Open In Colab\"/></a>"
      ]
    },
    {
      "cell_type": "code",
      "source": [
        "!pip install openai python-dotenv\n"
      ],
      "metadata": {
        "colab": {
          "base_uri": "https://localhost:8080/"
        },
        "id": "CK-UyT2I1JVE",
        "outputId": "0fd45746-4114-419d-988e-8db342b1e434"
      },
      "execution_count": null,
      "outputs": [
        {
          "output_type": "stream",
          "name": "stdout",
          "text": [
            "Requirement already satisfied: openai in /usr/local/lib/python3.12/dist-packages (1.109.1)\n",
            "Requirement already satisfied: python-dotenv in /usr/local/lib/python3.12/dist-packages (1.1.1)\n",
            "Requirement already satisfied: anyio<5,>=3.5.0 in /usr/local/lib/python3.12/dist-packages (from openai) (4.11.0)\n",
            "Requirement already satisfied: distro<2,>=1.7.0 in /usr/local/lib/python3.12/dist-packages (from openai) (1.9.0)\n",
            "Requirement already satisfied: httpx<1,>=0.23.0 in /usr/local/lib/python3.12/dist-packages (from openai) (0.28.1)\n",
            "Requirement already satisfied: jiter<1,>=0.4.0 in /usr/local/lib/python3.12/dist-packages (from openai) (0.11.0)\n",
            "Requirement already satisfied: pydantic<3,>=1.9.0 in /usr/local/lib/python3.12/dist-packages (from openai) (2.11.10)\n",
            "Requirement already satisfied: sniffio in /usr/local/lib/python3.12/dist-packages (from openai) (1.3.1)\n",
            "Requirement already satisfied: tqdm>4 in /usr/local/lib/python3.12/dist-packages (from openai) (4.67.1)\n",
            "Requirement already satisfied: typing-extensions<5,>=4.11 in /usr/local/lib/python3.12/dist-packages (from openai) (4.15.0)\n",
            "Requirement already satisfied: idna>=2.8 in /usr/local/lib/python3.12/dist-packages (from anyio<5,>=3.5.0->openai) (3.10)\n",
            "Requirement already satisfied: certifi in /usr/local/lib/python3.12/dist-packages (from httpx<1,>=0.23.0->openai) (2025.10.5)\n",
            "Requirement already satisfied: httpcore==1.* in /usr/local/lib/python3.12/dist-packages (from httpx<1,>=0.23.0->openai) (1.0.9)\n",
            "Requirement already satisfied: h11>=0.16 in /usr/local/lib/python3.12/dist-packages (from httpcore==1.*->httpx<1,>=0.23.0->openai) (0.16.0)\n",
            "Requirement already satisfied: annotated-types>=0.6.0 in /usr/local/lib/python3.12/dist-packages (from pydantic<3,>=1.9.0->openai) (0.7.0)\n",
            "Requirement already satisfied: pydantic-core==2.33.2 in /usr/local/lib/python3.12/dist-packages (from pydantic<3,>=1.9.0->openai) (2.33.2)\n",
            "Requirement already satisfied: typing-inspection>=0.4.0 in /usr/local/lib/python3.12/dist-packages (from pydantic<3,>=1.9.0->openai) (0.4.2)\n"
          ]
        }
      ]
    },
    {
      "cell_type": "code",
      "source": [
        "from openai import OpenAI\n",
        "\n",
        "# 🔑 Paste your Gemini API key directly here\n",
        "GEMINI_API_KEY = \"past api key here or in secret\"\n",
        "\n",
        "# Initialize the OpenAI client with Gemini base URL\n",
        "client = OpenAI(\n",
        "    api_key=GEMINI_API_KEY,\n",
        "    base_url=\"https://generativelanguage.googleapis.com/v1beta/openai/\"\n",
        ")\n",
        "\n",
        "# Ask user input\n",
        "query = input(\"Enter your question: \")\n",
        "\n",
        "# Send query to Gemini model\n",
        "response = client.chat.completions.create(\n",
        "    model=\"gemini-2.0-flash\",   # You can try gemini-1.5-flash if this fails\n",
        "    messages=[\n",
        "        {\"role\": \"system\", \"content\": \"You are a helpful AI assistant.\"},\n",
        "        {\"role\": \"user\", \"content\": query}\n",
        "    ]\n",
        ")\n",
        "\n",
        "# Print output\n",
        "print(\"\\nAssistant:\", response.choices[0].message.content)\n"
      ],
      "metadata": {
        "colab": {
          "base_uri": "https://localhost:8080/"
        },
        "id": "lhWkkaTt1Nx3",
        "outputId": "7a8c9761-8aee-452d-8925-154a400f92cf"
      },
      "execution_count": null,
      "outputs": [
        {
          "output_type": "stream",
          "name": "stdout",
          "text": [
            "Enter your question: weathe of karachi\n",
            "\n",
            "Assistant: I can provide you with the current weather conditions and a short-term forecast for Karachi. However, since weather changes rapidly, I highly recommend checking a reliable weather app or website for the very latest information.\n",
            "\n",
            "**To give you the most helpful answer, I need to know what kind of weather information you're looking for.** For example, are you interested in:\n",
            "\n",
            "*   **The current temperature?**\n",
            "*   **The overall conditions (sunny, cloudy, rainy, etc.)?**\n",
            "*   **The wind speed and direction?**\n",
            "*   **The humidity?**\n",
            "*   **A forecast for today or the next few days?**\n",
            "\n",
            "**In the meantime, here's some general information about Karachi's weather:**\n",
            "\n",
            "*   Karachi has a hot, semi-arid climate.\n",
            "*   Summers (roughly March to November) are hot and humid.\n",
            "*   Winters (roughly December to February) are mild and dry.\n",
            "*   The monsoon season brings occasional rainfall.\n",
            "\n",
            "Please tell me what specific weather information you'd like, and I'll do my best to provide it! Or, I can suggest some reliable weather resources for you to check.\n",
            "\n"
          ]
        }
      ]
    },
    {
      "cell_type": "markdown",
      "source": [
        "**Practice with Context**"
      ],
      "metadata": {
        "id": "HRdFBe2wifJ6"
      }
    },
    {
      "cell_type": "code",
      "source": [
        "!pip install openai python-dotenv\n",
        "\n",
        "import os\n",
        "from dataclasses import dataclass\n",
        "from dotenv import load_dotenv\n",
        "\n",
        "# --- Load or set API key ---\n",
        "os.environ[\"GEMINI_API_KEY\"] = \"key here\"\n",
        "gemini_api_key = os.getenv(\"GEMINI_API_KEY\")\n",
        "\n",
        "# --- Import OpenAI client ---\n",
        "from openai import AsyncOpenAI\n",
        "\n",
        "# --- Mock classes (to simulate missing ones) ---\n",
        "class OpenAIChatCompletionsModel:\n",
        "    def __init__(self, model, openai_client):\n",
        "        self.model = model\n",
        "        self.client = openai_client\n",
        "\n",
        "class Agent:\n",
        "    def __init__(self, name, instructions, model, tools):\n",
        "        self.name = name\n",
        "        self.instructions = instructions\n",
        "        self.model = model\n",
        "        self.tools = tools\n",
        "\n",
        "class Runner:\n",
        "    @staticmethod\n",
        "    def run_sync(agent, query, context):\n",
        "        for tool in agent.tools:\n",
        "            info = tool(context)\n",
        "            return type(\"Result\", (), {\"final_output\": f\"Query: {query}\\n{info}\"})\n",
        "\n",
        "def function_tool(func):\n",
        "    return func\n",
        "\n",
        "class RunContextWrapper:\n",
        "    def __init__(self, context):\n",
        "        self.context = context\n",
        "\n",
        "# --- Create AsyncOpenAI client ---\n",
        "client = AsyncOpenAI(\n",
        "    api_key=gemini_api_key,\n",
        "    base_url=\"https://generativelanguage.googleapis.com/v1beta/openai/\",\n",
        ")\n",
        "\n",
        "# --- User class ---\n",
        "@dataclass\n",
        "class User:\n",
        "    user_id: int\n",
        "\n",
        "# ✅ FIXED HERE: remove `[User]` — just use RunContextWrapper normally\n",
        "@function_tool\n",
        "def get_user_info(ctx: RunContextWrapper) -> str:\n",
        "    \"\"\"Fetches user personal information.\"\"\"\n",
        "    id = ctx.context.user_id\n",
        "    if id == 1:\n",
        "        return \"User name is Ali. He is 19 years old. He is an Agentic AI Engineer who likes playing Cricket.\"\n",
        "    elif id == 2:\n",
        "        return \"User name is Usman. He is 30 years old. He is a doctor who likes mountains.\"\n",
        "    else:\n",
        "        return \"User not found\"\n",
        "\n",
        "# --- Create Agent ---\n",
        "agent = Agent(\n",
        "    name=\"Assistant\",\n",
        "    instructions=\"You are an expert in agentic AI.\",\n",
        "    model=OpenAIChatCompletionsModel(model=\"gemini-2.0-flash\", openai_client=client),\n",
        "    tools=[get_user_info]\n",
        ")\n",
        "\n",
        "# --- Run simulation ---\n",
        "query = input(\"Enter the query: \")\n",
        "\n",
        "result = Runner.run_sync(\n",
        "    agent,\n",
        "    query,\n",
        "    context=RunContextWrapper(User(user_id=1))\n",
        ")\n",
        "\n",
        "print(result.final_output)\n"
      ],
      "metadata": {
        "colab": {
          "base_uri": "https://localhost:8080/"
        },
        "id": "mLkE7qKid5Z1",
        "outputId": "363aa79a-807f-43c7-9b1c-4a1a8fc62c5b"
      },
      "execution_count": 3,
      "outputs": [
        {
          "output_type": "stream",
          "name": "stdout",
          "text": [
            "Requirement already satisfied: openai in /usr/local/lib/python3.12/dist-packages (1.109.1)\n",
            "Requirement already satisfied: python-dotenv in /usr/local/lib/python3.12/dist-packages (1.1.1)\n",
            "Requirement already satisfied: anyio<5,>=3.5.0 in /usr/local/lib/python3.12/dist-packages (from openai) (4.11.0)\n",
            "Requirement already satisfied: distro<2,>=1.7.0 in /usr/local/lib/python3.12/dist-packages (from openai) (1.9.0)\n",
            "Requirement already satisfied: httpx<1,>=0.23.0 in /usr/local/lib/python3.12/dist-packages (from openai) (0.28.1)\n",
            "Requirement already satisfied: jiter<1,>=0.4.0 in /usr/local/lib/python3.12/dist-packages (from openai) (0.11.0)\n",
            "Requirement already satisfied: pydantic<3,>=1.9.0 in /usr/local/lib/python3.12/dist-packages (from openai) (2.11.10)\n",
            "Requirement already satisfied: sniffio in /usr/local/lib/python3.12/dist-packages (from openai) (1.3.1)\n",
            "Requirement already satisfied: tqdm>4 in /usr/local/lib/python3.12/dist-packages (from openai) (4.67.1)\n",
            "Requirement already satisfied: typing-extensions<5,>=4.11 in /usr/local/lib/python3.12/dist-packages (from openai) (4.15.0)\n",
            "Requirement already satisfied: idna>=2.8 in /usr/local/lib/python3.12/dist-packages (from anyio<5,>=3.5.0->openai) (3.11)\n",
            "Requirement already satisfied: certifi in /usr/local/lib/python3.12/dist-packages (from httpx<1,>=0.23.0->openai) (2025.10.5)\n",
            "Requirement already satisfied: httpcore==1.* in /usr/local/lib/python3.12/dist-packages (from httpx<1,>=0.23.0->openai) (1.0.9)\n",
            "Requirement already satisfied: h11>=0.16 in /usr/local/lib/python3.12/dist-packages (from httpcore==1.*->httpx<1,>=0.23.0->openai) (0.16.0)\n",
            "Requirement already satisfied: annotated-types>=0.6.0 in /usr/local/lib/python3.12/dist-packages (from pydantic<3,>=1.9.0->openai) (0.7.0)\n",
            "Requirement already satisfied: pydantic-core==2.33.2 in /usr/local/lib/python3.12/dist-packages (from pydantic<3,>=1.9.0->openai) (2.33.2)\n",
            "Requirement already satisfied: typing-inspection>=0.4.0 in /usr/local/lib/python3.12/dist-packages (from pydantic<3,>=1.9.0->openai) (0.4.2)\n",
            "Enter the query: What is the user info?\n",
            "Query: What is the user info?\n",
            "User name is Ali. He is 19 years old. He is an Agentic AI Engineer who likes playing Cricket.\n"
          ]
        }
      ]
    }
  ]
}